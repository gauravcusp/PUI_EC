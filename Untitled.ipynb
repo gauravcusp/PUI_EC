{
 "cells": [
  {
   "cell_type": "code",
   "execution_count": 1,
   "metadata": {},
   "outputs": [
    {
     "name": "stdout",
     "output_type": "stream",
     "text": [
      "Populating the interactive namespace from numpy and matplotlib\n"
     ]
    }
   ],
   "source": [
    "import pandas as pd\n",
    "import numpy as np\n",
    "import pylab as pl\n",
    "import geopandas as gpd\n",
    "import os\n",
    "import scipy\n",
    "from scipy.interpolate import griddata as gd\n",
    "import statsmodels.formula.api as smf\n",
    "import laspy\n",
    "from sklearn import tree\n",
    "%pylab inline"
   ]
  },
  {
   "cell_type": "code",
   "execution_count": 2,
   "metadata": {},
   "outputs": [],
   "source": [
    "path = os.getenv('PUIDATA')"
   ]
  },
  {
   "cell_type": "code",
   "execution_count": 3,
   "metadata": {},
   "outputs": [],
   "source": [
    "data = pd.read_csv(path+'/AirQuality2016_NY.csv')"
   ]
  },
  {
   "cell_type": "code",
   "execution_count": 4,
   "metadata": {},
   "outputs": [
    {
     "data": {
      "text/html": [
       "<div>\n",
       "<table border=\"1\" class=\"dataframe\">\n",
       "  <thead>\n",
       "    <tr style=\"text-align: right;\">\n",
       "      <th></th>\n",
       "      <th>﻿State Code</th>\n",
       "      <th>County Code</th>\n",
       "      <th>Site Num</th>\n",
       "      <th>Parameter Code</th>\n",
       "      <th>POC</th>\n",
       "      <th>Latitude</th>\n",
       "      <th>Longitude</th>\n",
       "      <th>Datum</th>\n",
       "      <th>Parameter Name</th>\n",
       "      <th>Sample Duration</th>\n",
       "      <th>...</th>\n",
       "      <th>75th Percentile</th>\n",
       "      <th>50th Percentile</th>\n",
       "      <th>10th Percentile</th>\n",
       "      <th>Local Site Name</th>\n",
       "      <th>Address</th>\n",
       "      <th>State Name</th>\n",
       "      <th>County Name</th>\n",
       "      <th>City Name</th>\n",
       "      <th>CBSA Name</th>\n",
       "      <th>Date of Last Change</th>\n",
       "    </tr>\n",
       "  </thead>\n",
       "  <tbody>\n",
       "    <tr>\n",
       "      <th>0</th>\n",
       "      <td>36</td>\n",
       "      <td>5</td>\n",
       "      <td>80</td>\n",
       "      <td>88501</td>\n",
       "      <td>3</td>\n",
       "      <td>40.83606</td>\n",
       "      <td>-73.92009</td>\n",
       "      <td>WGS84</td>\n",
       "      <td>PM2.5 Raw Data</td>\n",
       "      <td>1 HOUR</td>\n",
       "      <td>...</td>\n",
       "      <td>10.3</td>\n",
       "      <td>7.2</td>\n",
       "      <td>3.6</td>\n",
       "      <td>MORRISANIA</td>\n",
       "      <td>MORRISANIA CENTER, 1225-57 GERARD AVE.</td>\n",
       "      <td>New York</td>\n",
       "      <td>Bronx</td>\n",
       "      <td>New York</td>\n",
       "      <td>New York-Newark-Jersey City, NY-NJ-PA</td>\n",
       "      <td>1/30/17</td>\n",
       "    </tr>\n",
       "    <tr>\n",
       "      <th>1</th>\n",
       "      <td>36</td>\n",
       "      <td>5</td>\n",
       "      <td>80</td>\n",
       "      <td>88501</td>\n",
       "      <td>3</td>\n",
       "      <td>40.83606</td>\n",
       "      <td>-73.92009</td>\n",
       "      <td>WGS84</td>\n",
       "      <td>PM2.5 Raw Data</td>\n",
       "      <td>24-HR BLK AVG</td>\n",
       "      <td>...</td>\n",
       "      <td>9.7</td>\n",
       "      <td>7.5</td>\n",
       "      <td>4.8</td>\n",
       "      <td>MORRISANIA</td>\n",
       "      <td>MORRISANIA CENTER, 1225-57 GERARD AVE.</td>\n",
       "      <td>New York</td>\n",
       "      <td>Bronx</td>\n",
       "      <td>New York</td>\n",
       "      <td>New York-Newark-Jersey City, NY-NJ-PA</td>\n",
       "      <td>1/30/17</td>\n",
       "    </tr>\n",
       "    <tr>\n",
       "      <th>2</th>\n",
       "      <td>36</td>\n",
       "      <td>5</td>\n",
       "      <td>80</td>\n",
       "      <td>88502</td>\n",
       "      <td>3</td>\n",
       "      <td>40.83606</td>\n",
       "      <td>-73.92009</td>\n",
       "      <td>WGS84</td>\n",
       "      <td>Acceptable PM2.5 AQI &amp; Speciation Mass</td>\n",
       "      <td>1 HOUR</td>\n",
       "      <td>...</td>\n",
       "      <td>9.4</td>\n",
       "      <td>5.9</td>\n",
       "      <td>0.8</td>\n",
       "      <td>MORRISANIA</td>\n",
       "      <td>MORRISANIA CENTER, 1225-57 GERARD AVE.</td>\n",
       "      <td>New York</td>\n",
       "      <td>Bronx</td>\n",
       "      <td>New York</td>\n",
       "      <td>New York-Newark-Jersey City, NY-NJ-PA</td>\n",
       "      <td>1/30/17</td>\n",
       "    </tr>\n",
       "    <tr>\n",
       "      <th>3</th>\n",
       "      <td>36</td>\n",
       "      <td>5</td>\n",
       "      <td>80</td>\n",
       "      <td>88502</td>\n",
       "      <td>3</td>\n",
       "      <td>40.83606</td>\n",
       "      <td>-73.92009</td>\n",
       "      <td>WGS84</td>\n",
       "      <td>Acceptable PM2.5 AQI &amp; Speciation Mass</td>\n",
       "      <td>24-HR BLK AVG</td>\n",
       "      <td>...</td>\n",
       "      <td>8.9</td>\n",
       "      <td>6.0</td>\n",
       "      <td>1.9</td>\n",
       "      <td>MORRISANIA</td>\n",
       "      <td>MORRISANIA CENTER, 1225-57 GERARD AVE.</td>\n",
       "      <td>New York</td>\n",
       "      <td>Bronx</td>\n",
       "      <td>New York</td>\n",
       "      <td>New York-Newark-Jersey City, NY-NJ-PA</td>\n",
       "      <td>1/30/17</td>\n",
       "    </tr>\n",
       "    <tr>\n",
       "      <th>4</th>\n",
       "      <td>36</td>\n",
       "      <td>5</td>\n",
       "      <td>110</td>\n",
       "      <td>17141</td>\n",
       "      <td>6</td>\n",
       "      <td>40.81600</td>\n",
       "      <td>-73.90200</td>\n",
       "      <td>WGS84</td>\n",
       "      <td>Naphthalene (TSP) STP</td>\n",
       "      <td>24 HOUR</td>\n",
       "      <td>...</td>\n",
       "      <td>119.0</td>\n",
       "      <td>81.8</td>\n",
       "      <td>51.2</td>\n",
       "      <td>IS 52</td>\n",
       "      <td>IS 52    681 KELLY ST</td>\n",
       "      <td>New York</td>\n",
       "      <td>Bronx</td>\n",
       "      <td>New York</td>\n",
       "      <td>New York-Newark-Jersey City, NY-NJ-PA</td>\n",
       "      <td>3/28/17</td>\n",
       "    </tr>\n",
       "  </tbody>\n",
       "</table>\n",
       "<p>5 rows × 55 columns</p>\n",
       "</div>"
      ],
      "text/plain": [
       "   ﻿State Code  County Code  Site Num  Parameter Code  POC  Latitude  \\\n",
       "0           36            5        80           88501    3  40.83606   \n",
       "1           36            5        80           88501    3  40.83606   \n",
       "2           36            5        80           88502    3  40.83606   \n",
       "3           36            5        80           88502    3  40.83606   \n",
       "4           36            5       110           17141    6  40.81600   \n",
       "\n",
       "   Longitude  Datum                          Parameter Name Sample Duration  \\\n",
       "0  -73.92009  WGS84                          PM2.5 Raw Data          1 HOUR   \n",
       "1  -73.92009  WGS84                          PM2.5 Raw Data   24-HR BLK AVG   \n",
       "2  -73.92009  WGS84  Acceptable PM2.5 AQI & Speciation Mass          1 HOUR   \n",
       "3  -73.92009  WGS84  Acceptable PM2.5 AQI & Speciation Mass   24-HR BLK AVG   \n",
       "4  -73.90200  WGS84                   Naphthalene (TSP) STP         24 HOUR   \n",
       "\n",
       "          ...          75th Percentile 50th Percentile 10th Percentile  \\\n",
       "0         ...                     10.3             7.2             3.6   \n",
       "1         ...                      9.7             7.5             4.8   \n",
       "2         ...                      9.4             5.9             0.8   \n",
       "3         ...                      8.9             6.0             1.9   \n",
       "4         ...                    119.0            81.8            51.2   \n",
       "\n",
       "   Local Site Name                                 Address State Name  \\\n",
       "0       MORRISANIA  MORRISANIA CENTER, 1225-57 GERARD AVE.   New York   \n",
       "1       MORRISANIA  MORRISANIA CENTER, 1225-57 GERARD AVE.   New York   \n",
       "2       MORRISANIA  MORRISANIA CENTER, 1225-57 GERARD AVE.   New York   \n",
       "3       MORRISANIA  MORRISANIA CENTER, 1225-57 GERARD AVE.   New York   \n",
       "4            IS 52                   IS 52    681 KELLY ST   New York   \n",
       "\n",
       "   County Name  City Name                              CBSA Name  \\\n",
       "0        Bronx   New York  New York-Newark-Jersey City, NY-NJ-PA   \n",
       "1        Bronx   New York  New York-Newark-Jersey City, NY-NJ-PA   \n",
       "2        Bronx   New York  New York-Newark-Jersey City, NY-NJ-PA   \n",
       "3        Bronx   New York  New York-Newark-Jersey City, NY-NJ-PA   \n",
       "4        Bronx   New York  New York-Newark-Jersey City, NY-NJ-PA   \n",
       "\n",
       "   Date of Last Change  \n",
       "0              1/30/17  \n",
       "1              1/30/17  \n",
       "2              1/30/17  \n",
       "3              1/30/17  \n",
       "4              3/28/17  \n",
       "\n",
       "[5 rows x 55 columns]"
      ]
     },
     "execution_count": 4,
     "metadata": {},
     "output_type": "execute_result"
    }
   ],
   "source": [
    "data.head()"
   ]
  },
  {
   "cell_type": "code",
   "execution_count": 5,
   "metadata": {},
   "outputs": [
    {
     "data": {
      "text/plain": [
       "Index(['﻿State Code', 'County Code', 'Site Num', 'Parameter Code', 'POC',\n",
       "       'Latitude', 'Longitude', 'Datum', 'Parameter Name', 'Sample Duration',\n",
       "       'Pollutant Standard', 'Metric Used', 'Method Name', 'Year',\n",
       "       'Units of Measure', 'Event Type', 'Observation Count',\n",
       "       'Observation Percent', 'Completeness Indicator', 'Valid Day Count',\n",
       "       'Required Day Count', 'Exceptional Data Count', 'Null Data Count',\n",
       "       'Primary Exceedance Count', 'Secondary Exceedance Count',\n",
       "       'Certification Indicator', 'Num Obs Below MDL', 'Arithmetic Mean',\n",
       "       'Arithmetic Standard Dev', '1st Max Value', '1st Max DateTime',\n",
       "       '2nd Max Value', '2nd Max DateTime', '3rd Max Value',\n",
       "       '3rd Max DateTime', '4th Max Value', '4th Max DateTime',\n",
       "       '1st Max Non Overlapping Value', '1st NO Max DateTime',\n",
       "       '2nd Max Non Overlapping Value', '2nd NO Max DateTime',\n",
       "       '99th Percentile', '98th Percentile', '95th Percentile',\n",
       "       '90th Percentile', '75th Percentile', '50th Percentile',\n",
       "       '10th Percentile', 'Local Site Name', 'Address', 'State Name',\n",
       "       'County Name', 'City Name', 'CBSA Name', 'Date of Last Change'],\n",
       "      dtype='object')"
      ]
     },
     "execution_count": 5,
     "metadata": {},
     "output_type": "execute_result"
    }
   ],
   "source": [
    "data.columns"
   ]
  },
  {
   "cell_type": "code",
   "execution_count": 34,
   "metadata": {},
   "outputs": [
    {
     "data": {
      "image/png": "[encoded data removed]",
      "text/plain": [
       "<matplotlib.figure.Figure at 0x7f6ed7fc4d68>"
      ]
     },
     "metadata": {},
     "output_type": "display_data"
    }
   ],
   "source": [
    "ax = pl.figure(figsize=(20,20))\n",
    "pl.hist(data['Parameter Name'][data['Arithmetic Mean']> np.mean(data['Arithmetic Mean'])], bins=150)\n",
    "pl.xticks(rotation=90)\n",
    "pl.show()"
   ]
  },
  {
   "cell_type": "code",
   "execution_count": 32,
   "metadata": {},
   "outputs": [
    {
     "data": {
      "text/plain": [
       "''"
      ]
     },
     "execution_count": 32,
     "metadata": {},
     "output_type": "execute_result"
    }
   ],
   "source": []
  },
  {
   "cell_type": "code",
   "execution_count": null,
   "metadata": {},
   "outputs": [],
   "source": []
  }
 ],
 "metadata": {
  "kernelspec": {
   "display_name": "PUI2016_Python3",
   "language": "python",
   "name": "pui2016_python3"
  },
  "language_info": {
   "codemirror_mode": {
    "name": "ipython",
    "version": 3
   },
   "file_extension": ".py",
   "mimetype": "text/x-python",
   "name": "python",
   "nbconvert_exporter": "python",
   "pygments_lexer": "ipython3",
   "version": "3.5.4"
  }
 },
 "nbformat": 4,
 "nbformat_minor": 2
}
